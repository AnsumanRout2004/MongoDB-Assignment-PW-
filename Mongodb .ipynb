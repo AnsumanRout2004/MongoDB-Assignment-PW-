{
 "cells": [
  {
   "cell_type": "markdown",
   "id": "b8e5f5c6-84a4-4aaa-9315-61f006782ae0",
   "metadata": {},
   "source": [
    "# Q1: What is MongoDB? Explain Non-Relational Databases and When to Use MongoDB.\n",
    "\"\"\"\n",
    "MongoDB is a NoSQL, document-oriented database that stores data in flexible, JSON-like BSON format.\n",
    "Non-relational databases are designed to store unstructured or semi-structured data, making them more flexible than traditional SQL databases.\n",
    "\n",
    "**When to use MongoDB over SQL Databases:**\n",
    "- When dealing with unstructured or semi-structured data.\n",
    "- When scalability and high availability are required.\n",
    "- When rapid development and frequent schema changes are expected.\n",
    "- When handling large volumes of data with high read/write speeds.\n",
    "\"\"\"\n",
    "\n"
   ]
  },
  {
   "cell_type": "markdown",
   "id": "b2881ceb-1e2c-4fe8-9a55-9df541e897ab",
   "metadata": {},
   "source": [
    "# Q2: Features of MongoDB\n",
    "\"\"\"\n",
    "1. **Document-Oriented Storage:** Stores data in JSON-like BSON format.\n",
    "2. **Schema-less:** Collections do not enforce a fixed schema.\n",
    "3. **Scalability:** Supports horizontal scaling using sharding.\n",
    "4. **Indexing:** Supports indexing for faster query processing.\n",
    "5. **Replication:** Provides high availability with replica sets.\n",
    "6. **Aggregation Framework:** Allows complex data transformations.\n",
    "7. **Load Balancing:** Distributes data across multiple servers.\n",
    "\"\"\"\n",
    "\n",
    "\n",
    "\n",
    "\n"
   ]
  },
  {
   "cell_type": "code",
   "execution_count": 4,
   "id": "b3ebb88a-1740-4774-87a8-0cca352ad6e5",
   "metadata": {},
   "outputs": [
    {
     "ename": "ModuleNotFoundError",
     "evalue": "No module named 'pymongo'",
     "output_type": "error",
     "traceback": [
      "\u001b[1;31m---------------------------------------------------------------------------\u001b[0m",
      "\u001b[1;31mModuleNotFoundError\u001b[0m                       Traceback (most recent call last)",
      "Cell \u001b[1;32mIn[4], line 2\u001b[0m\n\u001b[0;32m      1\u001b[0m \u001b[38;5;66;03m# Q3: Connecting MongoDB to Python and Creating a Database & Collection\u001b[39;00m\n\u001b[1;32m----> 2\u001b[0m \u001b[38;5;28;01mfrom\u001b[39;00m \u001b[38;5;21;01mpymongo\u001b[39;00m \u001b[38;5;28;01mimport\u001b[39;00m MongoClient\n\u001b[0;32m      4\u001b[0m \u001b[38;5;66;03m# Connect to MongoDB\u001b[39;00m\n\u001b[0;32m      5\u001b[0m client \u001b[38;5;241m=\u001b[39m MongoClient(\u001b[38;5;124m\"\u001b[39m\u001b[38;5;124mmongodb://localhost:27017/\u001b[39m\u001b[38;5;124m\"\u001b[39m)\n",
      "\u001b[1;31mModuleNotFoundError\u001b[0m: No module named 'pymongo'"
     ]
    }
   ],
   "source": [
    "# Q3: Connecting MongoDB to Python and Creating a Database & Collection\n",
    "from pymongo import MongoClient\n",
    "\n",
    "# Connect to MongoDB\n",
    "client = MongoClient(\"mongodb://localhost:27017/\")\n",
    "\n",
    "# Create Database\n",
    "db = client[\"mydatabase\"]\n",
    "\n",
    "# Create Collection\n",
    "db_collection = db[\"customers\"]\n",
    "\n",
    "print(\"Connected to MongoDB and created database and collection.\")\n"
   ]
  },
  {
   "cell_type": "code",
   "execution_count": null,
   "id": "579aef94-6631-4632-84f8-75429907114b",
   "metadata": {},
   "outputs": [],
   "source": [
    "# Q4: Insert One Record and Insert Many Records\n",
    "# Insert One Record\n",
    "db_collection.insert_one({\"name\": \"Alice\", \"age\": 25, \"city\": \"New York\"})\n",
    "\n",
    "# Insert Many Records\n",
    "customers_list = [\n",
    "    {\"name\": \"Bob\", \"age\": 30, \"city\": \"Los Angeles\"},\n",
    "    {\"name\": \"Charlie\", \"age\": 35, \"city\": \"Chicago\"}\n",
    "]\n",
    "db_collection.insert_many(customers_list)\n",
    "\n",
    "# Find One Record\n",
    "print(\"One Record:\", db_collection.find_one())\n",
    "\n",
    "# Find All Records\n",
    "for record in db_collection.find():\n",
    "    print(record)\n"
   ]
  },
  {
   "cell_type": "code",
   "execution_count": null,
   "id": "b0b92ac1-6328-48d3-8a41-ff830b02467c",
   "metadata": {},
   "outputs": [],
   "source": [
    "# Q5: Querying MongoDB with find() Method\n",
    "# Find records where age > 30\n",
    "for record in db_collection.find({\"age\": {\"$gt\": 30}}):\n",
    "    print(record)\n"
   ]
  },
  {
   "cell_type": "code",
   "execution_count": null,
   "id": "47179d04-b47c-481e-851d-1511924b4b5a",
   "metadata": {},
   "outputs": [],
   "source": [
    "\n",
    "# Q6: Sorting in MongoDB\n",
    "# Sort by Age in Ascending Order\n",
    "for record in db_collection.find().sort(\"age\", 1):\n",
    "    print(record)\n"
   ]
  },
  {
   "cell_type": "code",
   "execution_count": null,
   "id": "2173b550-7b7c-4f11-a628-c345793bd474",
   "metadata": {},
   "outputs": [],
   "source": [
    "# Q7: Deleting Documents\n",
    "# delete_one(): Deletes the first match\n",
    "db_collection.delete_one({\"name\": \"Alice\"})\n",
    "\n",
    "# delete_many(): Deletes all matches\n",
    "db_collection.delete_many({\"city\": \"Chicago\"})\n",
    "\n",
    "# drop(): Deletes the entire collection\n",
    "db_collection.drop()\n",
    "\n",
    "print(\"Deletion operations performed successfully.\")\n"
   ]
  },
  {
   "cell_type": "code",
   "execution_count": null,
   "id": "80159b69-c15d-4871-9205-35d8bb8368c0",
   "metadata": {},
   "outputs": [],
   "source": []
  },
  {
   "cell_type": "code",
   "execution_count": null,
   "id": "d542f143-c8cd-4ea9-a9f9-d86772407508",
   "metadata": {},
   "outputs": [],
   "source": []
  },
  {
   "cell_type": "code",
   "execution_count": null,
   "id": "49e29b7d-6167-4936-933a-049daf380b88",
   "metadata": {},
   "outputs": [],
   "source": []
  },
  {
   "cell_type": "code",
   "execution_count": null,
   "id": "4c2c7ff9-ec99-49dc-abf3-84e8be052c9f",
   "metadata": {},
   "outputs": [],
   "source": []
  },
  {
   "cell_type": "code",
   "execution_count": null,
   "id": "e968fbeb-b154-4955-860c-5a8032cafdcc",
   "metadata": {},
   "outputs": [],
   "source": []
  },
  {
   "cell_type": "code",
   "execution_count": null,
   "id": "6be89d76-e32e-4100-b3e1-cdddbea759db",
   "metadata": {},
   "outputs": [],
   "source": []
  },
  {
   "cell_type": "code",
   "execution_count": null,
   "id": "dac73998-c977-40db-a30d-522c9a5920cd",
   "metadata": {},
   "outputs": [],
   "source": []
  },
  {
   "cell_type": "code",
   "execution_count": null,
   "id": "defba481-eca0-45e5-9034-9369e8ef1779",
   "metadata": {},
   "outputs": [],
   "source": []
  },
  {
   "cell_type": "code",
   "execution_count": null,
   "id": "1a33ac39-3a5f-4268-b207-87f46cffea5b",
   "metadata": {},
   "outputs": [],
   "source": []
  },
  {
   "cell_type": "code",
   "execution_count": null,
   "id": "7814aa1b-378b-46e6-8029-c26c2c0a0006",
   "metadata": {},
   "outputs": [],
   "source": []
  },
  {
   "cell_type": "code",
   "execution_count": null,
   "id": "d27ec607-aa12-4716-8e86-9722bb8db535",
   "metadata": {},
   "outputs": [],
   "source": []
  }
 ],
 "metadata": {
  "kernelspec": {
   "display_name": "Python [conda env:base] *",
   "language": "python",
   "name": "conda-base-py"
  },
  "language_info": {
   "codemirror_mode": {
    "name": "ipython",
    "version": 3
   },
   "file_extension": ".py",
   "mimetype": "text/x-python",
   "name": "python",
   "nbconvert_exporter": "python",
   "pygments_lexer": "ipython3",
   "version": "3.11.7"
  }
 },
 "nbformat": 4,
 "nbformat_minor": 5
}
